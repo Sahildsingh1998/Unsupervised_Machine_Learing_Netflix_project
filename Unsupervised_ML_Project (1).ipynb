{
 "cells": [
  {
   "cell_type": "code",
   "execution_count": 0,
   "metadata": {
    "application/vnd.databricks.v1+cell": {
     "cellMetadata": {
      "byteLimit": 2048000,
      "rowLimit": 10000
     },
     "inputWidgets": {},
     "nuid": "3b128825-cf43-4867-978f-c83d75b43c30",
     "showTitle": false,
     "title": ""
    },
    "colab": {
     "base_uri": "https://localhost:8080/"
    },
    "id": "8MHY7vvW_6Qp",
    "outputId": "960ae493-95ec-4de6-a892-5f0b0c5d0d05"
   },
   "outputs": [],
   "source": [
    "from google.colab import drive # mounting google drive\n",
    "drive.mount('/content/drive')"
   ]
  },
  {
   "cell_type": "code",
   "execution_count": 0,
   "metadata": {
    "application/vnd.databricks.v1+cell": {
     "cellMetadata": {
      "byteLimit": 2048000,
      "rowLimit": 10000
     },
     "inputWidgets": {},
     "nuid": "ce7c788e-411b-468e-836a-a0b1d9b4bce5",
     "showTitle": false,
     "title": ""
    },
    "id": "SGY1GsKTAFBN"
   },
   "outputs": [],
   "source": [
    "import pandas as pd # importing pandas\n",
    "import numpy as np # importing numpy"
   ]
  },
  {
   "cell_type": "code",
   "execution_count": 0,
   "metadata": {
    "application/vnd.databricks.v1+cell": {
     "cellMetadata": {
      "byteLimit": 2048000,
      "rowLimit": 10000
     },
     "inputWidgets": {},
     "nuid": "26a6c450-bb85-4111-92b2-48f376be2923",
     "showTitle": false,
     "title": ""
    },
    "id": "kW_sBgItAN5G"
   },
   "outputs": [],
   "source": [
    "df=pd.read_csv('/content/drive/MyDrive/NETFLIX MOVIES AND TV SHOWS CLUSTERING.csv') # reading csv file"
   ]
  },
  {
   "cell_type": "code",
   "execution_count": 0,
   "metadata": {
    "application/vnd.databricks.v1+cell": {
     "cellMetadata": {
      "byteLimit": 2048000,
      "rowLimit": 10000
     },
     "inputWidgets": {},
     "nuid": "63741f98-2330-4ec7-83fa-8f6f7672384c",
     "showTitle": false,
     "title": ""
    },
    "colab": {
     "base_uri": "https://localhost:8080/",
     "height": 641
    },
    "id": "-RsNO_JlAWPs",
    "outputId": "3de8e7c5-0b29-49f9-a4d4-508f0d183a71"
   },
   "outputs": [],
   "source": [
    "df"
   ]
  },
  {
   "cell_type": "code",
   "execution_count": 0,
   "metadata": {
    "application/vnd.databricks.v1+cell": {
     "cellMetadata": {
      "byteLimit": 2048000,
      "rowLimit": 10000
     },
     "inputWidgets": {},
     "nuid": "c35ec04b-4531-4886-a7d0-6bcaa72138d5",
     "showTitle": false,
     "title": ""
    },
    "colab": {
     "base_uri": "https://localhost:8080/"
    },
    "id": "NDiUiqbxAe67",
    "outputId": "5da3a854-ce6e-468d-8059-52699c02f492"
   },
   "outputs": [],
   "source": [
    "df.info()"
   ]
  },
  {
   "cell_type": "code",
   "execution_count": 0,
   "metadata": {
    "application/vnd.databricks.v1+cell": {
     "cellMetadata": {
      "byteLimit": 2048000,
      "rowLimit": 10000
     },
     "inputWidgets": {},
     "nuid": "3c13f6f9-9fd4-4562-9b21-a8f99911bd95",
     "showTitle": false,
     "title": ""
    },
    "id": "RqVMijLfAsTt"
   },
   "outputs": [],
   "source": [
    "df.dropna(inplace=True) # droping null values"
   ]
  },
  {
   "cell_type": "code",
   "execution_count": 0,
   "metadata": {
    "application/vnd.databricks.v1+cell": {
     "cellMetadata": {
      "byteLimit": 2048000,
      "rowLimit": 10000
     },
     "inputWidgets": {},
     "nuid": "15fb501d-5073-4c9b-aa7f-d3dddd555d7b",
     "showTitle": false,
     "title": ""
    },
    "colab": {
     "base_uri": "https://localhost:8080/"
    },
    "id": "yzII7EB6Azmx",
    "outputId": "ab08bad7-4f2d-40db-d097-2277a88e4c0e"
   },
   "outputs": [],
   "source": [
    "df.info()\n"
   ]
  },
  {
   "cell_type": "code",
   "execution_count": 0,
   "metadata": {
    "application/vnd.databricks.v1+cell": {
     "cellMetadata": {
      "byteLimit": 2048000,
      "rowLimit": 10000
     },
     "inputWidgets": {},
     "nuid": "ad76fd0f-0fff-475c-b47e-50092f3cd03f",
     "showTitle": false,
     "title": ""
    },
    "colab": {
     "base_uri": "https://localhost:8080/"
    },
    "id": "lsHtHUsRAX2y",
    "outputId": "96525a08-e176-4879-bd96-0460bf4b73ff"
   },
   "outputs": [],
   "source": [
    "\n",
    "\n",
    "df.info()"
   ]
  },
  {
   "cell_type": "markdown",
   "metadata": {
    "application/vnd.databricks.v1+cell": {
     "cellMetadata": {
      "byteLimit": 2048000,
      "rowLimit": 10000
     },
     "inputWidgets": {},
     "nuid": "7b6801ac-ca63-4d2d-a6fc-9fb0397cc571",
     "showTitle": false,
     "title": ""
    },
    "id": "biDG0XNgC5F2"
   },
   "source": [
    "**Exploaratory Data Analysis**"
   ]
  },
  {
   "cell_type": "code",
   "execution_count": 0,
   "metadata": {
    "application/vnd.databricks.v1+cell": {
     "cellMetadata": {
      "byteLimit": 2048000,
      "rowLimit": 10000
     },
     "inputWidgets": {},
     "nuid": "b5078eb8-4df3-4f7f-acbb-9af19f1b8026",
     "showTitle": false,
     "title": ""
    },
    "id": "Xioy5cPIC3td"
   },
   "outputs": [],
   "source": [
    "import seaborn as sns # importing seaborn\n"
   ]
  },
  {
   "cell_type": "code",
   "execution_count": 0,
   "metadata": {
    "application/vnd.databricks.v1+cell": {
     "cellMetadata": {
      "byteLimit": 2048000,
      "rowLimit": 10000
     },
     "inputWidgets": {},
     "nuid": "0de6f5b9-3e3b-4806-a7a2-04a0384c2207",
     "showTitle": false,
     "title": ""
    },
    "colab": {
     "base_uri": "https://localhost:8080/",
     "height": 468
    },
    "id": "HuvqhY8JFEMp",
    "outputId": "8c0feb73-6e9f-4f17-c0ff-6d45f6a5e0d3"
   },
   "outputs": [],
   "source": [
    "df_c=pd.DataFrame(df[['title','country']]) # creating new dataframe df_c\n",
    "df_c_count_of_titles=pd.DataFrame(df_c.groupby(by='country')['title'].count()).reset_index().sort_values(by='title',ascending=False).head(5) # grouping by country and counting the titles\n",
    "df_c_count_of_titles.rename(columns={'title':'no_of_titles'},inplace=True) # renaming column title to no_of_titles\n",
    "sns.barplot(data=df_c_count_of_titles,x='country',y='no_of_titles') # ploting barplot using seaborn\n",
    "\n",
    "\n",
    "\n",
    "\n"
   ]
  },
  {
   "cell_type": "code",
   "execution_count": 0,
   "metadata": {
    "application/vnd.databricks.v1+cell": {
     "cellMetadata": {
      "byteLimit": 2048000,
      "rowLimit": 10000
     },
     "inputWidgets": {},
     "nuid": "841ee67f-9aac-4d36-839e-1b1992963508",
     "showTitle": false,
     "title": ""
    },
    "colab": {
     "base_uri": "https://localhost:8080/",
     "height": 495
    },
    "id": "tVCvZWH1Gl_M",
    "outputId": "5ad6efc1-b943-44f1-968e-0be5e1b466b1"
   },
   "outputs": [],
   "source": [
    "import matplotlib.pyplot as plt # importing matplotlib\n",
    "import seaborn as sns # importing seaborn\n",
    "count = sns.countplot(x=\"release_year\", hue='type', data=df, order=df['release_year'].value_counts().index[0:15]) # ploting a count plot\n",
    "count.set_title('Movie/TV shows released in top 15 year', size=15) # giving title to the graph\n",
    "plt.xticks(rotation=90)# rotating xtick labels by 90 degrees\n",
    "plt.show()\n",
    "\n",
    "\n"
   ]
  },
  {
   "cell_type": "code",
   "execution_count": 0,
   "metadata": {
    "application/vnd.databricks.v1+cell": {
     "cellMetadata": {
      "byteLimit": 2048000,
      "rowLimit": 10000
     },
     "inputWidgets": {},
     "nuid": "cb9c13be-6a2e-4ef4-bd31-f860def5cf9e",
     "showTitle": false,
     "title": ""
    },
    "colab": {
     "base_uri": "https://localhost:8080/",
     "height": 499
    },
    "id": "ofrEsIkIKaE1",
    "outputId": "bfbb07fe-6f43-4d73-a05d-97a24e7e63f4"
   },
   "outputs": [],
   "source": [
    "hist = sns.histplot(df['release_year']) # ploting a histogram by release year\n",
    "hist.set_title('histogram by released year', size=20) # giving title to the graph"
   ]
  },
  {
   "cell_type": "code",
   "execution_count": 0,
   "metadata": {
    "application/vnd.databricks.v1+cell": {
     "cellMetadata": {
      "byteLimit": 2048000,
      "rowLimit": 10000
     },
     "inputWidgets": {},
     "nuid": "8b4eacef-ce4e-4a15-9cbf-52ed38872ea8",
     "showTitle": false,
     "title": ""
    },
    "colab": {
     "base_uri": "https://localhost:8080/",
     "height": 449
    },
    "id": "MFv4V7Q-PLUs",
    "outputId": "674cd64b-b86f-47e4-9e6b-db72a00a0035"
   },
   "outputs": [],
   "source": [
    "df_tdcr=pd.DataFrame(df[['country','rating','type','director']]) # creating a new datafram df_tdcr\n",
    "def Target_Audience(x): # creating a function to replace the values in the rating column by Adult,Children, All, Infants and None\n",
    "  if x in ['R','TV-MA','NR','NC-17','UR']:\n",
    "    return 'Adult'\n",
    "  elif x in ['TV-14','PG-13','TV-Y7','TV-Y7-FV','TV-PG','PG'] :\n",
    "    return 'Children'\n",
    "  elif x in ['TV-G','G']:\n",
    "    return 'All'\n",
    "  elif x in ['TV-Y']:\n",
    "    return 'Infants'\n",
    "  else:\n",
    "    return 'None'\n",
    "df_tdcr['rating']=df_tdcr['rating'].apply(Target_Audience) # applying the Target_Audience function on the rating column\n",
    "dsj=pd.DataFrame(df_tdcr.groupby(by=['country','rating','type'])['director'].count()) # creating a new dataframe grouping by country,rating,type and counting the directors active\n",
    "dsj.reset_index(inplace=True) # reseting the index\n",
    "dsj.sort_values(by='director',ascending=False,inplace=True) # sorting values by desc\n",
    "ax=sns.scatterplot(data=dsj.head(10),size='type',hue='rating',x='country',y='director') # ploting a scatterplot\n"
   ]
  },
  {
   "cell_type": "code",
   "execution_count": 0,
   "metadata": {
    "application/vnd.databricks.v1+cell": {
     "cellMetadata": {
      "byteLimit": 2048000,
      "rowLimit": 10000
     },
     "inputWidgets": {},
     "nuid": "1e7e2a72-87c2-4aae-b7cb-f9930a8bb298",
     "showTitle": false,
     "title": ""
    },
    "colab": {
     "base_uri": "https://localhost:8080/",
     "height": 641
    },
    "id": "_5R8TuEDAIqM",
    "outputId": "a55c2033-31e3-4b3f-fc7b-f9d11a66cd0e"
   },
   "outputs": [],
   "source": [
    "df"
   ]
  },
  {
   "cell_type": "code",
   "execution_count": 0,
   "metadata": {
    "application/vnd.databricks.v1+cell": {
     "cellMetadata": {
      "byteLimit": 2048000,
      "rowLimit": 10000
     },
     "inputWidgets": {},
     "nuid": "71eb4130-ac24-4db1-bbe7-2ffb8d115395",
     "showTitle": false,
     "title": ""
    },
    "id": "ymsoetSR8gEg"
   },
   "outputs": [],
   "source": []
  },
  {
   "cell_type": "code",
   "execution_count": 0,
   "metadata": {
    "application/vnd.databricks.v1+cell": {
     "cellMetadata": {
      "byteLimit": 2048000,
      "rowLimit": 10000
     },
     "inputWidgets": {},
     "nuid": "763b8f6c-ca16-4d25-adc4-dd91eb093cd8",
     "showTitle": false,
     "title": ""
    },
    "colab": {
     "base_uri": "https://localhost:8080/",
     "height": 1000
    },
    "id": "weKm5gYrB0t6",
    "outputId": "a36015d3-e93d-49b2-8132-e9db3db1b3ba"
   },
   "outputs": [],
   "source": [
    "df['nlp']= df['type'] +df['director'] + df['cast'] + df['country'] + df['rating'] + df['listed_in'] + df['description'] # adding a new column for natural language processing\n",
    "df"
   ]
  },
  {
   "cell_type": "code",
   "execution_count": 0,
   "metadata": {
    "application/vnd.databricks.v1+cell": {
     "cellMetadata": {
      "byteLimit": 2048000,
      "rowLimit": 10000
     },
     "inputWidgets": {},
     "nuid": "f174be65-c305-43b3-98bc-be442a583660",
     "showTitle": false,
     "title": ""
    },
    "colab": {
     "base_uri": "https://localhost:8080/"
    },
    "id": "tGKZCrLYCs6j",
    "outputId": "5a429929-dde9-40af-e6b4-b96e588cafab"
   },
   "outputs": [],
   "source": [
    "import nltk # importing natural language processing toolkit\n",
    "from nltk.corpus import stopwords # importing the stopwords\n",
    "nltk.download('stopwords') # downloading the stopwords\n",
    "\n"
   ]
  },
  {
   "cell_type": "code",
   "execution_count": 0,
   "metadata": {
    "application/vnd.databricks.v1+cell": {
     "cellMetadata": {
      "byteLimit": 2048000,
      "rowLimit": 10000
     },
     "inputWidgets": {},
     "nuid": "08f998db-e62b-4b56-bfef-3e4bf2aa0359",
     "showTitle": false,
     "title": ""
    },
    "colab": {
     "base_uri": "https://localhost:8080/"
    },
    "id": "kRUmh-ZKE2TA",
    "outputId": "d4675f2f-e2e2-40fd-9c29-7f42f1199b16"
   },
   "outputs": [],
   "source": [
    "stp_wrds=stopwords.words('english') # assigning the english stopwords to stp_wrds\n",
    "np.array(stp_wrds) # getting array of stp_wrds"
   ]
  },
  {
   "cell_type": "code",
   "execution_count": 0,
   "metadata": {
    "application/vnd.databricks.v1+cell": {
     "cellMetadata": {
      "byteLimit": 2048000,
      "rowLimit": 10000
     },
     "inputWidgets": {},
     "nuid": "a919ae2b-397c-4fd5-91b5-81a33f06bafe",
     "showTitle": false,
     "title": ""
    },
    "colab": {
     "base_uri": "https://localhost:8080/"
    },
    "id": "si8wnoLwHK1F",
    "outputId": "364b313f-1dc6-45a5-8d82-1315f9b09fe7"
   },
   "outputs": [],
   "source": [
    "df['no_stp_wrds']=df['nlp'].apply(lambda x: ''.join([i.lower() for i in x if i.lower() not in stp_wrds ])) # creating a new column without stopwords\n",
    "df['no_stp_wrds'] # getting insight about the new column(puntuations are present so we have to remove the puntuations in the next step)"
   ]
  },
  {
   "cell_type": "code",
   "execution_count": 0,
   "metadata": {
    "application/vnd.databricks.v1+cell": {
     "cellMetadata": {
      "byteLimit": 2048000,
      "rowLimit": 10000
     },
     "inputWidgets": {},
     "nuid": "69a38c2c-8876-4373-8f5d-0bd9133a412d",
     "showTitle": false,
     "title": ""
    },
    "colab": {
     "base_uri": "https://localhost:8080/",
     "height": 1000
    },
    "id": "hwPl7XKrJYKL",
    "outputId": "cf1c179e-87f2-449a-de60-db22dcb894ca"
   },
   "outputs": [],
   "source": [
    "df"
   ]
  },
  {
   "cell_type": "code",
   "execution_count": 0,
   "metadata": {
    "application/vnd.databricks.v1+cell": {
     "cellMetadata": {
      "byteLimit": 2048000,
      "rowLimit": 10000
     },
     "inputWidgets": {},
     "nuid": "35e5e7db-f841-4222-b137-17c2ee3c16e5",
     "showTitle": false,
     "title": ""
    },
    "colab": {
     "base_uri": "https://localhost:8080/",
     "height": 91
    },
    "id": "7WhTwH8YLAbv",
    "outputId": "89bcd55c-117a-48c4-e5cd-e26a9e7a3740"
   },
   "outputs": [],
   "source": [
    "df['nlp_no_punch'] = df['no_stp_wrds'].str.replace(r'[^\\w\\s]+', '') # removing puntuation marks from the column=no_stp_wrds\n",
    "df['nlp_no_punch'] # getting a column with no puntuation marks\n",
    "df['no_stp_wrds'].iloc[0]\n",
    "\n"
   ]
  },
  {
   "cell_type": "markdown",
   "metadata": {
    "application/vnd.databricks.v1+cell": {
     "cellMetadata": {
      "byteLimit": 2048000,
      "rowLimit": 10000
     },
     "inputWidgets": {},
     "nuid": "5f2ef07e-e015-4754-8c9b-e48dbe2ac12e",
     "showTitle": false,
     "title": ""
    },
    "id": "GyumfT7LhOyC"
   },
   "source": [
    "**Stemming**"
   ]
  },
  {
   "cell_type": "code",
   "execution_count": 0,
   "metadata": {
    "application/vnd.databricks.v1+cell": {
     "cellMetadata": {
      "byteLimit": 2048000,
      "rowLimit": 10000
     },
     "inputWidgets": {},
     "nuid": "c657c1cd-5881-4b48-887f-ab13eeeed8c2",
     "showTitle": false,
     "title": ""
    },
    "id": "7ThphBWiLRLN"
   },
   "outputs": [],
   "source": [
    "from nltk.stem.snowball import SnowballStemmer # importing snowballstemmer for finding the rootwords\n",
    "root_words= SnowballStemmer('english') # creating a object of english snowballstemmer with the name root_words\n",
    "def stemming(x): # creating a stemming function\n",
    "  y=[root_words.stem(i) for i in x.split()] # getting the rootword\n",
    "  return \" \".join(y) # returning the output after stemming\n",
    "\n",
    "\n",
    "\n"
   ]
  },
  {
   "cell_type": "code",
   "execution_count": 0,
   "metadata": {
    "application/vnd.databricks.v1+cell": {
     "cellMetadata": {
      "byteLimit": 2048000,
      "rowLimit": 10000
     },
     "inputWidgets": {},
     "nuid": "21298a91-afe8-4f34-b82a-8718631547ff",
     "showTitle": false,
     "title": ""
    },
    "id": "NdBJ6bgzOOe9"
   },
   "outputs": [],
   "source": [
    "df['nlp_no_punch']=df['nlp_no_punch'].apply(stemming) # applying stemming function on nlp_no_punch"
   ]
  },
  {
   "cell_type": "code",
   "execution_count": 0,
   "metadata": {
    "application/vnd.databricks.v1+cell": {
     "cellMetadata": {
      "byteLimit": 2048000,
      "rowLimit": 10000
     },
     "inputWidgets": {},
     "nuid": "7f5e4412-fbb0-42c8-87ce-b7041473e37b",
     "showTitle": false,
     "title": ""
    },
    "colab": {
     "base_uri": "https://localhost:8080/",
     "height": 55
    },
    "id": "ZZplLJnxPBW9",
    "outputId": "b63b1057-b0fa-40fc-ef34-2588aa57f04c"
   },
   "outputs": [],
   "source": [
    "df['nlp_no_punch'].iloc[0] # getting 1st row from 'nlp_no_punch'\n"
   ]
  },
  {
   "cell_type": "markdown",
   "metadata": {
    "application/vnd.databricks.v1+cell": {
     "cellMetadata": {
      "byteLimit": 2048000,
      "rowLimit": 10000
     },
     "inputWidgets": {},
     "nuid": "7fc8b34c-3060-475e-8218-486a0fb3dcbe",
     "showTitle": false,
     "title": ""
    },
    "id": "jZ_eg9FrlwUW"
   },
   "source": [
    "**Vectorization**"
   ]
  },
  {
   "cell_type": "code",
   "execution_count": 0,
   "metadata": {
    "application/vnd.databricks.v1+cell": {
     "cellMetadata": {
      "byteLimit": 2048000,
      "rowLimit": 10000
     },
     "inputWidgets": {},
     "nuid": "003127fa-c09d-446c-aa2b-1b93572e3c18",
     "showTitle": false,
     "title": ""
    },
    "id": "bTOBVU5BnMcE"
   },
   "outputs": [],
   "source": [
    "from sklearn.feature_extraction.text import CountVectorizer # importing countvectorizer\n",
    "from sklearn.feature_extraction.text import TfidfVectorizer # importing Term frequency and inverse document frequency"
   ]
  },
  {
   "cell_type": "code",
   "execution_count": 0,
   "metadata": {
    "application/vnd.databricks.v1+cell": {
     "cellMetadata": {
      "byteLimit": 2048000,
      "rowLimit": 10000
     },
     "inputWidgets": {},
     "nuid": "58203275-0131-4a29-bced-db7827b8c6fe",
     "showTitle": false,
     "title": ""
    },
    "colab": {
     "base_uri": "https://localhost:8080/",
     "height": 75
    },
    "id": "N4xA5vwZrD7h",
    "outputId": "c0402254-cf9f-4a22-f071-35cdee6f68b7"
   },
   "outputs": [],
   "source": [
    "tfidf=TfidfVectorizer(stop_words='english',lowercase=False) # creating a object for Tfidvectorizer\n",
    "tfidf.fit(df['nlp_no_punch']) # fitting the tfidf object on nlp_no_punch column"
   ]
  },
  {
   "cell_type": "code",
   "execution_count": 0,
   "metadata": {
    "application/vnd.databricks.v1+cell": {
     "cellMetadata": {
      "byteLimit": 2048000,
      "rowLimit": 10000
     },
     "inputWidgets": {},
     "nuid": "07c327a9-ce0e-4fb8-9c7b-f0d4966cf3a5",
     "showTitle": false,
     "title": ""
    },
    "colab": {
     "base_uri": "https://localhost:8080/"
    },
    "id": "0il5VQLjrof6",
    "outputId": "9f735dad-cea9-4b90-ff44-c2d60d75f836"
   },
   "outputs": [],
   "source": [
    "x=tfidf.vocabulary_.items() # getting the vocabulary of fitted tfidf object\n",
    "len(x)# getting the length of x"
   ]
  },
  {
   "cell_type": "code",
   "execution_count": 0,
   "metadata": {
    "application/vnd.databricks.v1+cell": {
     "cellMetadata": {
      "byteLimit": 2048000,
      "rowLimit": 10000
     },
     "inputWidgets": {},
     "nuid": "16f5937f-89cb-4f3d-8ab4-6503731743da",
     "showTitle": false,
     "title": ""
    },
    "colab": {
     "base_uri": "https://localhost:8080/"
    },
    "id": "eFmGbc7Hsfwr",
    "outputId": "ef1e1939-a843-42c8-8068-f2106acf47b1"
   },
   "outputs": [],
   "source": [
    "array_=tfidf.transform(df['nlp_no_punch']).toarray() # transforming the tfidf object into an array\n",
    "array_\n",
    "array_.shape\n"
   ]
  },
  {
   "cell_type": "code",
   "execution_count": 0,
   "metadata": {
    "application/vnd.databricks.v1+cell": {
     "cellMetadata": {
      "byteLimit": 2048000,
      "rowLimit": 10000
     },
     "inputWidgets": {},
     "nuid": "3b1625d1-66a1-4698-b369-69ce5db9c9c5",
     "showTitle": false,
     "title": ""
    },
    "colab": {
     "base_uri": "https://localhost:8080/",
     "height": 75
    },
    "id": "a-aJGsYIwcaT",
    "outputId": "d58b5637-470a-4aec-ab87-ec1ff57c01a2"
   },
   "outputs": [],
   "source": [
    "from sklearn.decomposition import PCA # importing principal component analysis\n",
    "pca=PCA() # creating a object for principle component analysis\n",
    "pca.fit(array_) # fitting the array of fitted tfidf object"
   ]
  },
  {
   "cell_type": "code",
   "execution_count": 0,
   "metadata": {
    "application/vnd.databricks.v1+cell": {
     "cellMetadata": {
      "byteLimit": 2048000,
      "rowLimit": 10000
     },
     "inputWidgets": {},
     "nuid": "bb0c3b08-d5f7-4592-a98c-16d3eb284bd0",
     "showTitle": false,
     "title": ""
    },
    "colab": {
     "base_uri": "https://localhost:8080/",
     "height": 472
    },
    "id": "V_dn7j5_x1re",
    "outputId": "8a620db4-e67f-42be-8ea2-e83f795e3cbd"
   },
   "outputs": [],
   "source": [
    "import matplotlib.pyplot as plt # importing matplotlib\n",
    "\n",
    "plt.plot(np.cumsum(pca.explained_variance_ratio_)) # plotting cummulative sum of explained variance ratio\n",
    "plt.title('PCA - Cumulative variance vs  components') # giving title to the graph\n",
    "plt.xlabel(' components') # giving xlabel\n",
    "plt.ylabel('Cumulative explained variance') # giving ylabel\n",
    "plt.axhline(y= 0.95, color='red', linestyle=':') # creating a horizontal line at y=95%\n",
    "plt.axvline(x=4000,color='purple',linestyle=':') # creatig a verticle line at x=4000\n",
    "plt.show()"
   ]
  },
  {
   "cell_type": "code",
   "execution_count": 0,
   "metadata": {
    "application/vnd.databricks.v1+cell": {
     "cellMetadata": {
      "byteLimit": 2048000,
      "rowLimit": 10000
     },
     "inputWidgets": {},
     "nuid": "33bab897-e949-4566-97b6-8b5381c7023f",
     "showTitle": false,
     "title": ""
    },
    "colab": {
     "base_uri": "https://localhost:8080/",
     "height": 75
    },
    "id": "TaFtERC50KKO",
    "outputId": "3e339f0a-9fb1-4d1a-d463-0cb18a9ac42a"
   },
   "outputs": [],
   "source": [
    "pca=PCA(n_components=4000) # choosing 4000 components\n",
    "pca.fit(array_)  # fitting the array with 4000 components"
   ]
  },
  {
   "cell_type": "code",
   "execution_count": 0,
   "metadata": {
    "application/vnd.databricks.v1+cell": {
     "cellMetadata": {
      "byteLimit": 2048000,
      "rowLimit": 10000
     },
     "inputWidgets": {},
     "nuid": "9c51b3f4-c60a-419d-b106-e2c625d780b5",
     "showTitle": false,
     "title": ""
    },
    "colab": {
     "base_uri": "https://localhost:8080/"
    },
    "id": "AajHCqn51OO6",
    "outputId": "3bc5cdd6-36c4-4860-b049-ca6d8cc17908"
   },
   "outputs": [],
   "source": [
    "f=pca.transform(array_)\n",
    "f.shape"
   ]
  },
  {
   "cell_type": "markdown",
   "metadata": {
    "application/vnd.databricks.v1+cell": {
     "cellMetadata": {
      "byteLimit": 2048000,
      "rowLimit": 10000
     },
     "inputWidgets": {},
     "nuid": "f9be103d-f2cd-4af7-b2a9-12bc1c515307",
     "showTitle": false,
     "title": ""
    },
    "id": "lCjPdbio1vWN"
   },
   "source": [
    "**Model1: Kmeans Clustering**"
   ]
  },
  {
   "cell_type": "code",
   "execution_count": 0,
   "metadata": {
    "application/vnd.databricks.v1+cell": {
     "cellMetadata": {
      "byteLimit": 2048000,
      "rowLimit": 10000
     },
     "inputWidgets": {},
     "nuid": "0b05a8aa-8662-44cd-bb6c-5deff5d3b2bb",
     "showTitle": false,
     "title": ""
    },
    "colab": {
     "base_uri": "https://localhost:8080/"
    },
    "id": "fLsZUtdD12GC",
    "outputId": "2b3499d9-62dc-4c56-e1d3-fb575e6b7694"
   },
   "outputs": [],
   "source": [
    "from sklearn.cluster import KMeans # imporing kmeans clustering\n",
    "a=[] # creating a empty list\n",
    "for i in range(1,20): # iteration for optimal k\n",
    "  k_means_=KMeans(n_clusters=i,init='k-means++',random_state=10) # creating a object for kmeans\n",
    "  k_means_.fit(f) # fitting the object\n",
    "  a.append(k_means_.inertia_) # appending the list a\n",
    "print(a)\n"
   ]
  },
  {
   "cell_type": "code",
   "execution_count": 0,
   "metadata": {
    "application/vnd.databricks.v1+cell": {
     "cellMetadata": {
      "byteLimit": 2048000,
      "rowLimit": 10000
     },
     "inputWidgets": {},
     "nuid": "efdc569e-bb95-4de9-96d6-f0c9fa09638c",
     "showTitle": false,
     "title": ""
    },
    "colab": {
     "base_uri": "https://localhost:8080/",
     "height": 467
    },
    "id": "5qG6H6AVRGxP",
    "outputId": "181ef5da-0dd0-41f6-b59f-0f2f2a95c415"
   },
   "outputs": [],
   "source": [
    "plt.plot(range(1,20),a) # ploting the k and corresponding sum of squared errors\n",
    "plt.xlabel('clusters')\n",
    "plt.ylabel('SSE')\n",
    "plt.axvline(x=8,linestyle=':',color='red') # creating a dotted line at k=8 as it was percieved as the elbow point"
   ]
  },
  {
   "cell_type": "code",
   "execution_count": 0,
   "metadata": {
    "application/vnd.databricks.v1+cell": {
     "cellMetadata": {
      "byteLimit": 2048000,
      "rowLimit": 10000
     },
     "inputWidgets": {},
     "nuid": "90fd1f2d-8b03-43dd-80d0-2302946ca541",
     "showTitle": false,
     "title": ""
    },
    "colab": {
     "base_uri": "https://localhost:8080/",
     "height": 251
    },
    "id": "9_DsOxxH7QeE",
    "outputId": "62e9941d-ff57-4e9e-b0c8-dc325b5590fa"
   },
   "outputs": [],
   "source": [
    "\n",
    "from sklearn.metrics  import silhouette_score # importing silhouette_score from the sklearn metrics\n",
    "sil_avg = [] # creating a empty list\n",
    "\n",
    "for i in range(2, 20): # iteration for clusters\n",
    "\n",
    "  k_means_ = KMeans(n_clusters=i, init='k-means++',random_state=10) # creating a kmeans object\n",
    "  k_means_.fit(f) # fitting the object over array f\n",
    "  labels = k_means_.labels_ # getting labels\n",
    "  score = silhouette_score(f, labels) # getting the silhouette score\n",
    "  sil_avg.append(score) # appending the list sil_avg"
   ]
  },
  {
   "cell_type": "code",
   "execution_count": 0,
   "metadata": {
    "application/vnd.databricks.v1+cell": {
     "cellMetadata": {
      "byteLimit": 2048000,
      "rowLimit": 10000
     },
     "inputWidgets": {},
     "nuid": "78f6add8-4b68-4bf7-8368-f2f5e8b94e3b",
     "showTitle": false,
     "title": ""
    },
    "colab": {
     "base_uri": "https://localhost:8080/",
     "height": 472
    },
    "id": "M21txf9V-mX1",
    "outputId": "6465c5dc-1296-432f-ccab-9020605f83c3"
   },
   "outputs": [],
   "source": [
    "plt.plot(range(2,20), sil_avg) # ploting the silhouette analysis\n",
    "plt.xlabel('Number of clusters') # x label named\n",
    "plt.ylabel('Silhouette score') # y label named\n",
    "plt.title('Silhouette analysis For Optimal clusters') # giving title to the plot\n",
    "plt.axvline(x=3,linestyle=':',color='red') # ploting a verticle line with x=3\n",
    "plt.show()"
   ]
  },
  {
   "cell_type": "markdown",
   "metadata": {
    "application/vnd.databricks.v1+cell": {
     "cellMetadata": {
      "byteLimit": 2048000,
      "rowLimit": 10000
     },
     "inputWidgets": {},
     "nuid": "2d8d9ad0-5fe1-46f6-96d9-ee1791b2fc92",
     "showTitle": false,
     "title": ""
    },
    "id": "pEm40dPRZ_DP"
   },
   "source": [
    "**Clustering using Gaussian Mixture**"
   ]
  },
  {
   "cell_type": "code",
   "execution_count": 0,
   "metadata": {
    "application/vnd.databricks.v1+cell": {
     "cellMetadata": {
      "byteLimit": 2048000,
      "rowLimit": 10000
     },
     "inputWidgets": {},
     "nuid": "95ca46d3-2357-4563-b940-0ad5976d252c",
     "showTitle": false,
     "title": ""
    },
    "id": "j4bVteN-aR54"
   },
   "outputs": [],
   "source": [
    "from sklearn.mixture import GaussianMixture # importing Gaussian Mixture\n"
   ]
  },
  {
   "cell_type": "code",
   "execution_count": 0,
   "metadata": {
    "application/vnd.databricks.v1+cell": {
     "cellMetadata": {
      "byteLimit": 2048000,
      "rowLimit": 10000
     },
     "inputWidgets": {},
     "nuid": "6b037136-87a8-4947-bcd4-97ea89c1a784",
     "showTitle": false,
     "title": ""
    },
    "id": "5WBspau8nRBP"
   },
   "outputs": [],
   "source": [
    "aic={} # creating a dictionary for aic score\n",
    "bic={} # creating a dictionary for bic score\n",
    "for i in range(1,20): # iteration\n",
    "  gm= GaussianMixture(n_components=i,random_state=10) # creating a Gaussian Mixture object\n",
    "  gm.fit(f) # fitting the Gaussian Mixture object over array f\n",
    "  aic[i]=gm.aic(f) # getting the aic score\n",
    "  bic[i]=gm.bic(f) # getting the bic score"
   ]
  },
  {
   "cell_type": "code",
   "execution_count": 0,
   "metadata": {
    "application/vnd.databricks.v1+cell": {
     "cellMetadata": {
      "byteLimit": 2048000,
      "rowLimit": 10000
     },
     "inputWidgets": {},
     "nuid": "d1b076e7-daff-4337-9a4f-8882aad9833f",
     "showTitle": false,
     "title": ""
    },
    "colab": {
     "base_uri": "https://localhost:8080/",
     "height": 872
    },
    "id": "I7Y5Ph7IcZWb",
    "outputId": "bf3849fb-fc20-4faf-82ab-fa2ca43ff8b4"
   },
   "outputs": [],
   "source": [
    "plt.figure(figsize=(12,10))\n",
    "plt.plot(list(aic.keys()),list(aic.values()),label='AIC') # ploting aic and no of clusters\n",
    "plt.plot(list(bic.keys()),list(bic.values()),label='BIC') # ploting bic and no of clusters\n",
    "plt.title('AIC and BIC from GMM') # giving title\n",
    "plt.xlabel('Number of Clusters') # labeling x axis\n",
    "plt.ylabel('AIC and BIC values') # labeling y axis\n",
    "plt.axvline(x=2,linestyle=':',color='red') # creating a dotted line at x=2 as it as the lowest aic and bic score\n",
    "plt.show()"
   ]
  },
  {
   "cell_type": "markdown",
   "metadata": {
    "application/vnd.databricks.v1+cell": {
     "cellMetadata": {
      "byteLimit": 2048000,
      "rowLimit": 10000
     },
     "inputWidgets": {},
     "nuid": "d48620e7-a6e3-4336-b526-d8c859d71b9b",
     "showTitle": false,
     "title": ""
    },
    "id": "X88lq1v3oCrl"
   },
   "source": [
    "**Clustering using hierarchy modeling**"
   ]
  },
  {
   "cell_type": "code",
   "execution_count": 0,
   "metadata": {
    "application/vnd.databricks.v1+cell": {
     "cellMetadata": {
      "byteLimit": 2048000,
      "rowLimit": 10000
     },
     "inputWidgets": {},
     "nuid": "eb814988-6caf-4842-94a4-29a48a054519",
     "showTitle": false,
     "title": ""
    },
    "id": "_OFpopxyogZn"
   },
   "outputs": [],
   "source": [
    "import scipy.cluster.hierarchy as hr # importing hierarchial clustering model"
   ]
  },
  {
   "cell_type": "code",
   "execution_count": 0,
   "metadata": {
    "application/vnd.databricks.v1+cell": {
     "cellMetadata": {
      "byteLimit": 2048000,
      "rowLimit": 10000
     },
     "inputWidgets": {},
     "nuid": "ceb5cc8b-29ff-41f4-8397-722848055418",
     "showTitle": false,
     "title": ""
    },
    "colab": {
     "base_uri": "https://localhost:8080/",
     "height": 434
    },
    "id": "XHdMJ2XzosaU",
    "outputId": "90976378-2a84-44d7-fdf1-d58ad335c677"
   },
   "outputs": [],
   "source": [
    "hr_graph=hr.dendrogram(hr.linkage(f,method='ward')) # ploting a dendogram\n",
    "plt.ylabel('Euclidean_distance') # labeling y axis\n",
    "plt.show()"
   ]
  },
  {
   "cell_type": "markdown",
   "metadata": {
    "application/vnd.databricks.v1+cell": {
     "cellMetadata": {
      "byteLimit": 2048000,
      "rowLimit": 10000
     },
     "inputWidgets": {},
     "nuid": "ac34fde0-a5d4-4ec5-aac4-40b79f4876c7",
     "showTitle": false,
     "title": ""
    },
    "id": "4nYrp1aor1yD"
   },
   "source": [
    "**After analysing Kmeans: Sum of Squared Error plot , silhoutte plot; Gaussian Mixture: aic and bic plot ; Hierarchial modeling: Dendogram.\n",
    "I have come to the conclusion that 8 clusters would be fit for the data **"
   ]
  },
  {
   "cell_type": "code",
   "execution_count": 0,
   "metadata": {
    "application/vnd.databricks.v1+cell": {
     "cellMetadata": {
      "byteLimit": 2048000,
      "rowLimit": 10000
     },
     "inputWidgets": {},
     "nuid": "08746486-ecee-4695-8248-d1cd2c9d5452",
     "showTitle": false,
     "title": ""
    },
    "colab": {
     "base_uri": "https://localhost:8080/"
    },
    "id": "80BnzFF3spLb",
    "outputId": "61aee0f9-9b50-429d-c5d0-60be4f30abda"
   },
   "outputs": [],
   "source": [
    " k_means_=KMeans(n_clusters=8,init='k-means++',random_state=10) # again creating kmeans object with 8 clusters\n",
    " k_means_.fit(f) # fitting the array\n",
    " df['k_clusters']=k_means_.labels_ # creating a new column with the kmeans labels"
   ]
  },
  {
   "cell_type": "code",
   "execution_count": 0,
   "metadata": {
    "application/vnd.databricks.v1+cell": {
     "cellMetadata": {
      "byteLimit": 2048000,
      "rowLimit": 10000
     },
     "inputWidgets": {},
     "nuid": "5e4a1fc8-ccbc-4bce-894b-183e11c41491",
     "showTitle": false,
     "title": ""
    },
    "colab": {
     "base_uri": "https://localhost:8080/",
     "height": 450
    },
    "id": "5LvpyjpPtKHL",
    "outputId": "3b73981c-b1b1-4c3c-8294-25ace8dd45a0"
   },
   "outputs": [],
   "source": [
    "import seaborn as sns # importing seaborn\n",
    "ax=sns.countplot(data=df,x='k_clusters',hue='type') # ploting a count plot\n",
    "for bar in ax.patches: # iteration for labeling the columns\n",
    "  ax.annotate(format(bar.get_height(), '.0f'), (bar.get_x(), bar.get_height()))"
   ]
  },
  {
   "cell_type": "markdown",
   "metadata": {
    "application/vnd.databricks.v1+cell": {
     "cellMetadata": {
      "byteLimit": 2048000,
      "rowLimit": 10000
     },
     "inputWidgets": {},
     "nuid": "35a26bf4-db8f-4f5e-b203-54af93fc7f8f",
     "showTitle": false,
     "title": ""
    },
    "id": "NWc_6JlXuQqZ"
   },
   "source": [
    "**Creating a Recommendation system**"
   ]
  },
  {
   "cell_type": "code",
   "execution_count": 0,
   "metadata": {
    "application/vnd.databricks.v1+cell": {
     "cellMetadata": {
      "byteLimit": 2048000,
      "rowLimit": 10000
     },
     "inputWidgets": {},
     "nuid": "d8f9abba-5466-42ca-b689-9498b5ca2868",
     "showTitle": false,
     "title": ""
    },
    "colab": {
     "base_uri": "https://localhost:8080/",
     "height": 1000
    },
    "id": "3EAxRyTpuaaR",
    "outputId": "dfc9a08d-7686-47de-83cb-d34deaf653c1"
   },
   "outputs": [],
   "source": [
    "rdf=df.copy() # creating a copy of dataframe as rdf for recommendation system designing\n",
    "rdf.reset_index(inplace=True) # resting the index\n",
    "rdf # calling the new dataframe rdf"
   ]
  },
  {
   "cell_type": "code",
   "execution_count": 0,
   "metadata": {
    "application/vnd.databricks.v1+cell": {
     "cellMetadata": {
      "byteLimit": 2048000,
      "rowLimit": 10000
     },
     "inputWidgets": {},
     "nuid": "9bd9806a-2665-42ff-bd89-6b9dc1aae46e",
     "showTitle": false,
     "title": ""
    },
    "colab": {
     "base_uri": "https://localhost:8080/",
     "height": 1000
    },
    "id": "xgf8oTX8wkhg",
    "outputId": "48feb2a5-6299-4f8b-992c-217dde9f4b7b"
   },
   "outputs": [],
   "source": [
    "rdf"
   ]
  },
  {
   "cell_type": "code",
   "execution_count": 0,
   "metadata": {
    "application/vnd.databricks.v1+cell": {
     "cellMetadata": {
      "byteLimit": 2048000,
      "rowLimit": 10000
     },
     "inputWidgets": {},
     "nuid": "62ecc0cf-e46d-455c-8e80-75f741eb0f63",
     "showTitle": false,
     "title": ""
    },
    "colab": {
     "base_uri": "https://localhost:8080/"
    },
    "id": "tYWVxFw1xHlk",
    "outputId": "3e01bf7d-87d1-41fd-9787-880e00a5234f"
   },
   "outputs": [],
   "source": [
    "f # getting the array f"
   ]
  },
  {
   "cell_type": "code",
   "execution_count": 0,
   "metadata": {
    "application/vnd.databricks.v1+cell": {
     "cellMetadata": {
      "byteLimit": 2048000,
      "rowLimit": 10000
     },
     "inputWidgets": {},
     "nuid": "1bc0a0a1-98cd-4c2a-be41-dbc6703684c8",
     "showTitle": false,
     "title": ""
    },
    "colab": {
     "base_uri": "https://localhost:8080/"
    },
    "id": "32knT_tkxJxm",
    "outputId": "a4e26c5d-a080-45f9-dae3-15e3ea8639cc"
   },
   "outputs": [],
   "source": [
    "from sklearn.metrics.pairwise import cosine_similarity # importing cosine similarity\n",
    "cos_sim=cosine_similarity(f) # creating a array of cosine similarity as cos_sim\n",
    "cos_sim"
   ]
  },
  {
   "cell_type": "code",
   "execution_count": 0,
   "metadata": {
    "application/vnd.databricks.v1+cell": {
     "cellMetadata": {
      "byteLimit": 2048000,
      "rowLimit": 10000
     },
     "inputWidgets": {},
     "nuid": "1ac1ce3f-517e-4c5b-a8c1-d64ccfd7576a",
     "showTitle": false,
     "title": ""
    },
    "id": "qPiMQQyCzFQp"
   },
   "outputs": [],
   "source": [
    "def recommendations(movie):\n",
    "    print(f\"If you liked '{movie}', you may also like: \\n\")\n",
    "    index = rdf[rdf['title'] == movie].index[0] # finding index\n",
    "    distances = sorted(list(enumerate(cos_sim[index])), reverse=True, key=lambda x:x[1]) # enumerated list of cosine similarity with index for each entry in rdf\n",
    "    for i in distances[1:11]: # iteration for top 10 recommendations\n",
    "        print(rdf.iloc[i[0]].title)\n"
   ]
  },
  {
   "cell_type": "code",
   "execution_count": 0,
   "metadata": {
    "application/vnd.databricks.v1+cell": {
     "cellMetadata": {
      "byteLimit": 2048000,
      "rowLimit": 10000
     },
     "inputWidgets": {},
     "nuid": "bf936fef-d2cb-4641-970b-115f221307cd",
     "showTitle": false,
     "title": ""
    },
    "colab": {
     "base_uri": "https://localhost:8080/"
    },
    "id": "o8Zx4p_R0DI-",
    "outputId": "c24b4b6f-989a-4f40-c236-c1fca376b0e2"
   },
   "outputs": [],
   "source": [
    "recommendations('Golmaal: Fun Unlimited')"
   ]
  }
 ],
 "metadata": {
  "application/vnd.databricks.v1+notebook": {
   "dashboards": [],
   "environmentMetadata": {
    "base_environment": "",
    "client": "1"
   },
   "language": "python",
   "notebookMetadata": {
    "pythonIndentUnit": 4
   },
   "notebookName": "Unsupervised_ML_Project (1)",
   "widgets": {}
  },
  "colab": {
   "provenance": []
  },
  "kernelspec": {
   "display_name": "Python 3",
   "name": "python3"
  },
  "language_info": {
   "name": "python"
  }
 },
 "nbformat": 4,
 "nbformat_minor": 0
}
